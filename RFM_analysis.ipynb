{
 "cells": [
  {
   "cell_type": "markdown",
   "metadata": {},
   "source": [
    "## Cегментация клиентов\n",
    "### RFM анализ"
   ]
  },
  {
   "cell_type": "markdown",
   "metadata": {},
   "source": [
    "В каждом подсегменте разделим пользователей на 4 класса. \n",
    "Рассчитаем количество дней, прошедших с момента последней покупки, с максимальной даты покупки в датасете."
   ]
  },
  {
   "cell_type": "code",
   "execution_count": 64,
   "metadata": {},
   "outputs": [],
   "source": [
    "import pandas as pd\n",
    "import numpy as np\n",
    "import matplotlib.pyplot as plt\n",
    "%matplotlib inline\n",
    "import seaborn as sns\n",
    "sns.set()\n",
    "\n",
    "# Установим размер графика и цветовую схему\n",
    "plt.rcParams['figure.figsize'] = (8, 5)\n",
    "plt.rcParams['image.cmap'] = 'viridis'"
   ]
  },
  {
   "cell_type": "code",
   "execution_count": 65,
   "metadata": {},
   "outputs": [
    {
     "name": "stderr",
     "output_type": "stream",
     "text": [
      "/opt/tljh/user/lib/python3.7/site-packages/IPython/core/interactiveshell.py:3063: DtypeWarning: Columns (1) have mixed types.Specify dtype option on import or set low_memory=False.\n",
      "  interactivity=interactivity, compiler=compiler, result=result)\n"
     ]
    },
    {
     "data": {
      "text/html": [
       "<div>\n",
       "<style scoped>\n",
       "    .dataframe tbody tr th:only-of-type {\n",
       "        vertical-align: middle;\n",
       "    }\n",
       "\n",
       "    .dataframe tbody tr th {\n",
       "        vertical-align: top;\n",
       "    }\n",
       "\n",
       "    .dataframe thead th {\n",
       "        text-align: right;\n",
       "    }\n",
       "</style>\n",
       "<table border=\"1\" class=\"dataframe\">\n",
       "  <thead>\n",
       "    <tr style=\"text-align: right;\">\n",
       "      <th></th>\n",
       "      <th>InvoiceNo</th>\n",
       "      <th>CustomerCode</th>\n",
       "      <th>InvoiceDate</th>\n",
       "      <th>Amount</th>\n",
       "    </tr>\n",
       "  </thead>\n",
       "  <tbody>\n",
       "    <tr>\n",
       "      <th>0</th>\n",
       "      <td>C0011810010001</td>\n",
       "      <td>19067290</td>\n",
       "      <td>2020-09-01</td>\n",
       "      <td>1716.00</td>\n",
       "    </tr>\n",
       "    <tr>\n",
       "      <th>1</th>\n",
       "      <td>C0011810010017</td>\n",
       "      <td>13233933</td>\n",
       "      <td>2020-09-01</td>\n",
       "      <td>1489.74</td>\n",
       "    </tr>\n",
       "    <tr>\n",
       "      <th>2</th>\n",
       "      <td>C0011810010020</td>\n",
       "      <td>99057968</td>\n",
       "      <td>2020-09-01</td>\n",
       "      <td>151.47</td>\n",
       "    </tr>\n",
       "    <tr>\n",
       "      <th>3</th>\n",
       "      <td>C0011810010021</td>\n",
       "      <td>80007276</td>\n",
       "      <td>2020-09-01</td>\n",
       "      <td>146.72</td>\n",
       "    </tr>\n",
       "    <tr>\n",
       "      <th>4</th>\n",
       "      <td>C0011810010024</td>\n",
       "      <td>13164076</td>\n",
       "      <td>2020-09-01</td>\n",
       "      <td>104.00</td>\n",
       "    </tr>\n",
       "    <tr>\n",
       "      <th>...</th>\n",
       "      <td>...</td>\n",
       "      <td>...</td>\n",
       "      <td>...</td>\n",
       "      <td>...</td>\n",
       "    </tr>\n",
       "    <tr>\n",
       "      <th>332725</th>\n",
       "      <td>S0081810310459</td>\n",
       "      <td>14092500</td>\n",
       "      <td>2020-09-30</td>\n",
       "      <td>3801.87</td>\n",
       "    </tr>\n",
       "    <tr>\n",
       "      <th>332726</th>\n",
       "      <td>S0081810310461</td>\n",
       "      <td>99065678</td>\n",
       "      <td>2020-09-30</td>\n",
       "      <td>5769.88</td>\n",
       "    </tr>\n",
       "    <tr>\n",
       "      <th>332727</th>\n",
       "      <td>S0081810310462</td>\n",
       "      <td>19029918</td>\n",
       "      <td>2020-09-30</td>\n",
       "      <td>736.88</td>\n",
       "    </tr>\n",
       "    <tr>\n",
       "      <th>332728</th>\n",
       "      <td>S0081810310463</td>\n",
       "      <td>13020033</td>\n",
       "      <td>2020-09-30</td>\n",
       "      <td>1475.20</td>\n",
       "    </tr>\n",
       "    <tr>\n",
       "      <th>332729</th>\n",
       "      <td>S0081810310466</td>\n",
       "      <td>13046679</td>\n",
       "      <td>2020-09-30</td>\n",
       "      <td>709.56</td>\n",
       "    </tr>\n",
       "  </tbody>\n",
       "</table>\n",
       "<p>332730 rows × 4 columns</p>\n",
       "</div>"
      ],
      "text/plain": [
       "             InvoiceNo CustomerCode InvoiceDate   Amount\n",
       "0       C0011810010001     19067290  2020-09-01  1716.00\n",
       "1       C0011810010017     13233933  2020-09-01  1489.74\n",
       "2       C0011810010020     99057968  2020-09-01   151.47\n",
       "3       C0011810010021     80007276  2020-09-01   146.72\n",
       "4       C0011810010024     13164076  2020-09-01   104.00\n",
       "...                ...          ...         ...      ...\n",
       "332725  S0081810310459     14092500  2020-09-30  3801.87\n",
       "332726  S0081810310461     99065678  2020-09-30  5769.88\n",
       "332727  S0081810310462     19029918  2020-09-30   736.88\n",
       "332728  S0081810310463     13020033  2020-09-30  1475.20\n",
       "332729  S0081810310466     13046679  2020-09-30   709.56\n",
       "\n",
       "[332730 rows x 4 columns]"
      ]
     },
     "execution_count": 65,
     "metadata": {},
     "output_type": "execute_result"
    }
   ],
   "source": [
    "#считываем данные\n",
    "df = pd.read_csv('/mnt/HC_Volume_18315164/home-jupyter/jupyter-o-miadelets/Product_analytics/RFM_ht_data.csv')\n",
    "df"
   ]
  },
  {
   "cell_type": "code",
   "execution_count": 66,
   "metadata": {
    "scrolled": true
   },
   "outputs": [
    {
     "name": "stdout",
     "output_type": "stream",
     "text": [
      "<class 'pandas.core.frame.DataFrame'>\n",
      "RangeIndex: 332730 entries, 0 to 332729\n",
      "Data columns (total 4 columns):\n",
      " #   Column        Non-Null Count   Dtype  \n",
      "---  ------        --------------   -----  \n",
      " 0   InvoiceNo     332730 non-null  object \n",
      " 1   CustomerCode  332730 non-null  object \n",
      " 2   InvoiceDate   332730 non-null  object \n",
      " 3   Amount        332730 non-null  float64\n",
      "dtypes: float64(1), object(3)\n",
      "memory usage: 10.2+ MB\n"
     ]
    }
   ],
   "source": [
    "df.info()"
   ]
  },
  {
   "cell_type": "code",
   "execution_count": 67,
   "metadata": {},
   "outputs": [],
   "source": [
    "#корректируем типы данных\n",
    "df['InvoiceDate'] = pd.to_datetime(df['InvoiceDate'])\n",
    "df.InvoiceNo = df.InvoiceNo.apply(str)\n",
    "df.CustomerCode = df.CustomerCode.apply(str)"
   ]
  },
  {
   "cell_type": "code",
   "execution_count": 68,
   "metadata": {},
   "outputs": [
    {
     "name": "stderr",
     "output_type": "stream",
     "text": [
      "/opt/tljh/user/lib/python3.7/site-packages/ipykernel_launcher.py:2: FutureWarning: Treating datetime data as categorical rather than numeric in `.describe` is deprecated and will be removed in a future version of pandas. Specify `datetime_is_numeric=True` to silence this warning and adopt the future behavior now.\n",
      "  \n"
     ]
    },
    {
     "data": {
      "text/plain": [
       "count                  332730\n",
       "unique                     30\n",
       "top       2020-09-30 00:00:00\n",
       "freq                    19781\n",
       "first     2020-09-01 00:00:00\n",
       "last      2020-09-30 00:00:00\n",
       "Name: InvoiceDate, dtype: object"
      ]
     },
     "execution_count": 68,
     "metadata": {},
     "output_type": "execute_result"
    }
   ],
   "source": [
    "#смотрим первую и последнюю дату\n",
    "df['InvoiceDate'].describe()"
   ]
  },
  {
   "cell_type": "code",
   "execution_count": 69,
   "metadata": {},
   "outputs": [
    {
     "data": {
      "text/plain": [
       "Timestamp('2020-09-30 00:00:00')"
      ]
     },
     "execution_count": 69,
     "metadata": {},
     "output_type": "execute_result"
    }
   ],
   "source": [
    "#последняя дата\n",
    "last_date = df['InvoiceDate'].max()\n",
    "last_date"
   ]
  },
  {
   "cell_type": "markdown",
   "metadata": {},
   "source": [
    "Recency - Количество дней с последнего заказа;\n",
    "\n",
    "Frequency - Количество заказов;\n",
    "\n",
    "Monetary Value - Общая сумма по всем заказам."
   ]
  },
  {
   "cell_type": "code",
   "execution_count": 70,
   "metadata": {},
   "outputs": [],
   "source": [
    "#создаем таблицу с Recency, Frequency и Monetary Value\n",
    "rfmTable = df.groupby('CustomerCode').agg({'InvoiceDate': lambda x: (last_date - x.max()).days, # Recency\n",
    "                                        'InvoiceNo': lambda x: len(x),      # Frequency \n",
    "                                        'Amount': lambda x: x.sum()}) # Monetary Value \n",
    "\n",
    "rfmTable['InvoiceDate'] = rfmTable['InvoiceDate'].astype(int)\n",
    "rfmTable.rename(columns={'InvoiceDate': 'recency', \n",
    "                         'InvoiceNo': 'frequency', \n",
    "                         'Amount': 'monetary_value'}, inplace=True)"
   ]
  },
  {
   "cell_type": "code",
   "execution_count": 71,
   "metadata": {},
   "outputs": [
    {
     "data": {
      "text/html": [
       "<div>\n",
       "<style scoped>\n",
       "    .dataframe tbody tr th:only-of-type {\n",
       "        vertical-align: middle;\n",
       "    }\n",
       "\n",
       "    .dataframe tbody tr th {\n",
       "        vertical-align: top;\n",
       "    }\n",
       "\n",
       "    .dataframe thead th {\n",
       "        text-align: right;\n",
       "    }\n",
       "</style>\n",
       "<table border=\"1\" class=\"dataframe\">\n",
       "  <thead>\n",
       "    <tr style=\"text-align: right;\">\n",
       "      <th></th>\n",
       "      <th>recency</th>\n",
       "      <th>frequency</th>\n",
       "      <th>monetary_value</th>\n",
       "    </tr>\n",
       "    <tr>\n",
       "      <th>CustomerCode</th>\n",
       "      <th></th>\n",
       "      <th></th>\n",
       "      <th></th>\n",
       "    </tr>\n",
       "  </thead>\n",
       "  <tbody>\n",
       "    <tr>\n",
       "      <th>02213019</th>\n",
       "      <td>19</td>\n",
       "      <td>1</td>\n",
       "      <td>1609.20</td>\n",
       "    </tr>\n",
       "    <tr>\n",
       "      <th>02213042</th>\n",
       "      <td>22</td>\n",
       "      <td>3</td>\n",
       "      <td>9685.48</td>\n",
       "    </tr>\n",
       "    <tr>\n",
       "      <th>02213071</th>\n",
       "      <td>29</td>\n",
       "      <td>1</td>\n",
       "      <td>415.00</td>\n",
       "    </tr>\n",
       "    <tr>\n",
       "      <th>02213088</th>\n",
       "      <td>23</td>\n",
       "      <td>1</td>\n",
       "      <td>305.00</td>\n",
       "    </tr>\n",
       "    <tr>\n",
       "      <th>02213092</th>\n",
       "      <td>25</td>\n",
       "      <td>1</td>\n",
       "      <td>1412.88</td>\n",
       "    </tr>\n",
       "    <tr>\n",
       "      <th>...</th>\n",
       "      <td>...</td>\n",
       "      <td>...</td>\n",
       "      <td>...</td>\n",
       "    </tr>\n",
       "    <tr>\n",
       "      <th>99099927</th>\n",
       "      <td>10</td>\n",
       "      <td>1</td>\n",
       "      <td>961.10</td>\n",
       "    </tr>\n",
       "    <tr>\n",
       "      <th>99099936</th>\n",
       "      <td>0</td>\n",
       "      <td>1</td>\n",
       "      <td>1521.78</td>\n",
       "    </tr>\n",
       "    <tr>\n",
       "      <th>99099959</th>\n",
       "      <td>8</td>\n",
       "      <td>2</td>\n",
       "      <td>1444.56</td>\n",
       "    </tr>\n",
       "    <tr>\n",
       "      <th>99099963</th>\n",
       "      <td>19</td>\n",
       "      <td>1</td>\n",
       "      <td>3018.91</td>\n",
       "    </tr>\n",
       "    <tr>\n",
       "      <th>99099972</th>\n",
       "      <td>0</td>\n",
       "      <td>2</td>\n",
       "      <td>4577.37</td>\n",
       "    </tr>\n",
       "  </tbody>\n",
       "</table>\n",
       "<p>123733 rows × 3 columns</p>\n",
       "</div>"
      ],
      "text/plain": [
       "              recency  frequency  monetary_value\n",
       "CustomerCode                                    \n",
       "02213019           19          1         1609.20\n",
       "02213042           22          3         9685.48\n",
       "02213071           29          1          415.00\n",
       "02213088           23          1          305.00\n",
       "02213092           25          1         1412.88\n",
       "...               ...        ...             ...\n",
       "99099927           10          1          961.10\n",
       "99099936            0          1         1521.78\n",
       "99099959            8          2         1444.56\n",
       "99099963           19          1         3018.91\n",
       "99099972            0          2         4577.37\n",
       "\n",
       "[123733 rows x 3 columns]"
      ]
     },
     "execution_count": 71,
     "metadata": {},
     "output_type": "execute_result"
    }
   ],
   "source": [
    "rfmTable"
   ]
  },
  {
   "cell_type": "code",
   "execution_count": 72,
   "metadata": {},
   "outputs": [],
   "source": [
    "rfmSegmentation = rfmTable\n"
   ]
  },
  {
   "cell_type": "code",
   "execution_count": 73,
   "metadata": {},
   "outputs": [
    {
     "data": {
      "text/html": [
       "<div>\n",
       "<style scoped>\n",
       "    .dataframe tbody tr th:only-of-type {\n",
       "        vertical-align: middle;\n",
       "    }\n",
       "\n",
       "    .dataframe tbody tr th {\n",
       "        vertical-align: top;\n",
       "    }\n",
       "\n",
       "    .dataframe thead th {\n",
       "        text-align: right;\n",
       "    }\n",
       "</style>\n",
       "<table border=\"1\" class=\"dataframe\">\n",
       "  <thead>\n",
       "    <tr style=\"text-align: right;\">\n",
       "      <th></th>\n",
       "      <th>recency</th>\n",
       "      <th>frequency</th>\n",
       "      <th>monetary_value</th>\n",
       "    </tr>\n",
       "  </thead>\n",
       "  <tbody>\n",
       "    <tr>\n",
       "      <th>0.25</th>\n",
       "      <td>2.0</td>\n",
       "      <td>1.0</td>\n",
       "      <td>765.00</td>\n",
       "    </tr>\n",
       "    <tr>\n",
       "      <th>0.50</th>\n",
       "      <td>8.0</td>\n",
       "      <td>2.0</td>\n",
       "      <td>1834.48</td>\n",
       "    </tr>\n",
       "    <tr>\n",
       "      <th>0.75</th>\n",
       "      <td>16.0</td>\n",
       "      <td>3.0</td>\n",
       "      <td>4008.84</td>\n",
       "    </tr>\n",
       "  </tbody>\n",
       "</table>\n",
       "</div>"
      ],
      "text/plain": [
       "      recency  frequency  monetary_value\n",
       "0.25      2.0        1.0          765.00\n",
       "0.50      8.0        2.0         1834.48\n",
       "0.75     16.0        3.0         4008.84"
      ]
     },
     "execution_count": 73,
     "metadata": {},
     "output_type": "execute_result"
    }
   ],
   "source": [
    "#для разделений на 4 класса используем квантили\n",
    "quantiles = rfmTable.quantile(q=[0.25, 0.5, 0.75])\n",
    "quantiles"
   ]
  },
  {
   "cell_type": "code",
   "execution_count": 74,
   "metadata": {},
   "outputs": [],
   "source": [
    "#создадим функцию для присвоения класса для Recency, в зависимости от значения (чем ниже значение - тем ниже класс)\n",
    "def RClass(value,parameter_name,quantiles_table):\n",
    "    if value <= quantiles_table[parameter_name][0.25]:\n",
    "        return 1\n",
    "    elif value <= quantiles_table[parameter_name][0.50]:\n",
    "        return 2\n",
    "    elif value <= quantiles_table[parameter_name][0.75]: \n",
    "        return 3\n",
    "    else:\n",
    "        return 4\n",
    "\n",
    "#создадим функцию для присвоения класса для Frequency и Monetary Value, в зависимости от значения \n",
    "#(здесь наоборот, чем выше значение - тем ниже класс)\n",
    "def FMClass(value, parameter_name,quantiles_table):\n",
    "    if value <= quantiles_table[parameter_name][0.25]:\n",
    "        return 4\n",
    "    elif value <= quantiles_table[parameter_name][0.50]:\n",
    "        return 3\n",
    "    elif value <= quantiles_table[parameter_name][0.75]: \n",
    "        return 2\n",
    "    else:\n",
    "        return 1"
   ]
  },
  {
   "cell_type": "code",
   "execution_count": 75,
   "metadata": {},
   "outputs": [],
   "source": [
    "#присвоим классы\n",
    "rfmSegmentation['R_Quartile'] = rfmSegmentation['recency'].apply(RClass, args=('recency',quantiles))\n",
    "\n",
    "rfmSegmentation['F_Quartile'] = rfmSegmentation['frequency'].apply(FMClass, args=('frequency',quantiles))\n",
    "\n",
    "rfmSegmentation['M_Quartile'] = rfmSegmentation['monetary_value'].apply(FMClass, args=('monetary_value',quantiles))\n",
    "\n",
    "rfmSegmentation['RFMClass'] = rfmSegmentation.R_Quartile.map(str) + rfmSegmentation.F_Quartile.map(str) + rfmSegmentation.M_Quartile.map(str)"
   ]
  },
  {
   "cell_type": "code",
   "execution_count": 76,
   "metadata": {},
   "outputs": [
    {
     "data": {
      "text/html": [
       "<div>\n",
       "<style scoped>\n",
       "    .dataframe tbody tr th:only-of-type {\n",
       "        vertical-align: middle;\n",
       "    }\n",
       "\n",
       "    .dataframe tbody tr th {\n",
       "        vertical-align: top;\n",
       "    }\n",
       "\n",
       "    .dataframe thead th {\n",
       "        text-align: right;\n",
       "    }\n",
       "</style>\n",
       "<table border=\"1\" class=\"dataframe\">\n",
       "  <thead>\n",
       "    <tr style=\"text-align: right;\">\n",
       "      <th></th>\n",
       "      <th>recency</th>\n",
       "      <th>frequency</th>\n",
       "      <th>monetary_value</th>\n",
       "      <th>R_Quartile</th>\n",
       "      <th>F_Quartile</th>\n",
       "      <th>M_Quartile</th>\n",
       "      <th>RFMClass</th>\n",
       "    </tr>\n",
       "    <tr>\n",
       "      <th>CustomerCode</th>\n",
       "      <th></th>\n",
       "      <th></th>\n",
       "      <th></th>\n",
       "      <th></th>\n",
       "      <th></th>\n",
       "      <th></th>\n",
       "      <th></th>\n",
       "    </tr>\n",
       "  </thead>\n",
       "  <tbody>\n",
       "    <tr>\n",
       "      <th>02213019</th>\n",
       "      <td>19</td>\n",
       "      <td>1</td>\n",
       "      <td>1609.20</td>\n",
       "      <td>4</td>\n",
       "      <td>4</td>\n",
       "      <td>3</td>\n",
       "      <td>443</td>\n",
       "    </tr>\n",
       "    <tr>\n",
       "      <th>02213042</th>\n",
       "      <td>22</td>\n",
       "      <td>3</td>\n",
       "      <td>9685.48</td>\n",
       "      <td>4</td>\n",
       "      <td>2</td>\n",
       "      <td>1</td>\n",
       "      <td>421</td>\n",
       "    </tr>\n",
       "    <tr>\n",
       "      <th>02213071</th>\n",
       "      <td>29</td>\n",
       "      <td>1</td>\n",
       "      <td>415.00</td>\n",
       "      <td>4</td>\n",
       "      <td>4</td>\n",
       "      <td>4</td>\n",
       "      <td>444</td>\n",
       "    </tr>\n",
       "    <tr>\n",
       "      <th>02213088</th>\n",
       "      <td>23</td>\n",
       "      <td>1</td>\n",
       "      <td>305.00</td>\n",
       "      <td>4</td>\n",
       "      <td>4</td>\n",
       "      <td>4</td>\n",
       "      <td>444</td>\n",
       "    </tr>\n",
       "    <tr>\n",
       "      <th>02213092</th>\n",
       "      <td>25</td>\n",
       "      <td>1</td>\n",
       "      <td>1412.88</td>\n",
       "      <td>4</td>\n",
       "      <td>4</td>\n",
       "      <td>3</td>\n",
       "      <td>443</td>\n",
       "    </tr>\n",
       "    <tr>\n",
       "      <th>...</th>\n",
       "      <td>...</td>\n",
       "      <td>...</td>\n",
       "      <td>...</td>\n",
       "      <td>...</td>\n",
       "      <td>...</td>\n",
       "      <td>...</td>\n",
       "      <td>...</td>\n",
       "    </tr>\n",
       "    <tr>\n",
       "      <th>99099927</th>\n",
       "      <td>10</td>\n",
       "      <td>1</td>\n",
       "      <td>961.10</td>\n",
       "      <td>3</td>\n",
       "      <td>4</td>\n",
       "      <td>3</td>\n",
       "      <td>343</td>\n",
       "    </tr>\n",
       "    <tr>\n",
       "      <th>99099936</th>\n",
       "      <td>0</td>\n",
       "      <td>1</td>\n",
       "      <td>1521.78</td>\n",
       "      <td>1</td>\n",
       "      <td>4</td>\n",
       "      <td>3</td>\n",
       "      <td>143</td>\n",
       "    </tr>\n",
       "    <tr>\n",
       "      <th>99099959</th>\n",
       "      <td>8</td>\n",
       "      <td>2</td>\n",
       "      <td>1444.56</td>\n",
       "      <td>2</td>\n",
       "      <td>3</td>\n",
       "      <td>3</td>\n",
       "      <td>233</td>\n",
       "    </tr>\n",
       "    <tr>\n",
       "      <th>99099963</th>\n",
       "      <td>19</td>\n",
       "      <td>1</td>\n",
       "      <td>3018.91</td>\n",
       "      <td>4</td>\n",
       "      <td>4</td>\n",
       "      <td>2</td>\n",
       "      <td>442</td>\n",
       "    </tr>\n",
       "    <tr>\n",
       "      <th>99099972</th>\n",
       "      <td>0</td>\n",
       "      <td>2</td>\n",
       "      <td>4577.37</td>\n",
       "      <td>1</td>\n",
       "      <td>3</td>\n",
       "      <td>1</td>\n",
       "      <td>131</td>\n",
       "    </tr>\n",
       "  </tbody>\n",
       "</table>\n",
       "<p>123733 rows × 7 columns</p>\n",
       "</div>"
      ],
      "text/plain": [
       "              recency  frequency  monetary_value  R_Quartile  F_Quartile  \\\n",
       "CustomerCode                                                               \n",
       "02213019           19          1         1609.20           4           4   \n",
       "02213042           22          3         9685.48           4           2   \n",
       "02213071           29          1          415.00           4           4   \n",
       "02213088           23          1          305.00           4           4   \n",
       "02213092           25          1         1412.88           4           4   \n",
       "...               ...        ...             ...         ...         ...   \n",
       "99099927           10          1          961.10           3           4   \n",
       "99099936            0          1         1521.78           1           4   \n",
       "99099959            8          2         1444.56           2           3   \n",
       "99099963           19          1         3018.91           4           4   \n",
       "99099972            0          2         4577.37           1           3   \n",
       "\n",
       "              M_Quartile RFMClass  \n",
       "CustomerCode                       \n",
       "02213019               3      443  \n",
       "02213042               1      421  \n",
       "02213071               4      444  \n",
       "02213088               4      444  \n",
       "02213092               3      443  \n",
       "...                  ...      ...  \n",
       "99099927               3      343  \n",
       "99099936               3      143  \n",
       "99099959               3      233  \n",
       "99099963               2      442  \n",
       "99099972               1      131  \n",
       "\n",
       "[123733 rows x 7 columns]"
      ]
     },
     "execution_count": 76,
     "metadata": {},
     "output_type": "execute_result"
    }
   ],
   "source": [
    "rfmSegmentation"
   ]
  },
  {
   "cell_type": "code",
   "execution_count": 77,
   "metadata": {},
   "outputs": [
    {
     "data": {
      "text/plain": [
       "204"
      ]
     },
     "execution_count": 77,
     "metadata": {},
     "output_type": "execute_result"
    }
   ],
   "source": [
    "# максимальное кол-во покупок совершеное одним пользователем\n",
    "rfmSegmentation.frequency.max()"
   ]
  },
  {
   "cell_type": "code",
   "execution_count": 78,
   "metadata": {},
   "outputs": [
    {
     "data": {
      "text/plain": [
       "<matplotlib.axes._subplots.AxesSubplot at 0x7fb9c0f2e748>"
      ]
     },
     "execution_count": 78,
     "metadata": {},
     "output_type": "execute_result"
    },
    {
     "data": {
      "image/png": "[encoded data removed]",
      "text/plain": [
       "<Figure size 576x360 with 2 Axes>"
      ]
     },
     "metadata": {},
     "output_type": "display_data"
    }
   ],
   "source": [
    "#визуализируем распределение по R и F (в ячейках медианное значение LTV в сегменте)\n",
    "rfm_table = rfmSegmentation.pivot_table(\n",
    "                        index='R_Quartile', \n",
    "                        columns='F_Quartile', \n",
    "                        values='monetary_value', \n",
    "                        aggfunc=np.median).applymap(int)\n",
    "sns.heatmap(rfm_table, cmap=\"YlGnBu\", annot=True, fmt=\".0f\", linewidths=4.15, annot_kws={\"size\": 10},yticklabels=4)"
   ]
  },
  {
   "cell_type": "code",
   "execution_count": 79,
   "metadata": {},
   "outputs": [
    {
     "data": {
      "text/plain": [
       "765"
      ]
     },
     "execution_count": 79,
     "metadata": {},
     "output_type": "execute_result"
    }
   ],
   "source": [
    "# верхняя граница у суммы покупок у пользователей с классом 4 в подсегменте М?\n",
    "765"
   ]
  },
  {
   "cell_type": "code",
   "execution_count": 80,
   "metadata": {},
   "outputs": [
    {
     "data": {
      "text/plain": [
       "4"
      ]
     },
     "execution_count": 80,
     "metadata": {},
     "output_type": "execute_result"
    }
   ],
   "source": [
    "# нижняя граница у количества покупок у пользователей с классом 1 в подсегменте F?\n",
    "4"
   ]
  },
  {
   "cell_type": "code",
   "execution_count": 81,
   "metadata": {},
   "outputs": [
    {
     "data": {
      "text/plain": [
       "8"
      ]
     },
     "execution_count": 81,
     "metadata": {},
     "output_type": "execute_result"
    }
   ],
   "source": [
    "# Какое максимальное количество дней может пройти с момента последней покупки для того, чтобы пользователь \n",
    "# попал в класс 2 в подсегменте R?\n",
    "8"
   ]
  },
  {
   "cell_type": "code",
   "execution_count": 82,
   "metadata": {},
   "outputs": [
    {
     "data": {
      "text/plain": [
       "9705"
      ]
     },
     "execution_count": 82,
     "metadata": {},
     "output_type": "execute_result"
    }
   ],
   "source": [
    "# Сколько пользователей попало в сегмент 111?\n",
    "rfmSegmentation.query(\"RFMClass == '111'\").RFMClass.count()"
   ]
  },
  {
   "cell_type": "code",
   "execution_count": 83,
   "metadata": {},
   "outputs": [
    {
     "data": {
      "text/plain": [
       "1609"
      ]
     },
     "execution_count": 83,
     "metadata": {},
     "output_type": "execute_result"
    }
   ],
   "source": [
    "# Сколько пользователей попало в сегмент 311?\n",
    "rfmSegmentation.query(\"RFMClass == '311'\").RFMClass.count()"
   ]
  },
  {
   "cell_type": "code",
   "execution_count": 84,
   "metadata": {},
   "outputs": [
    {
     "data": {
      "text/html": [
       "<div>\n",
       "<style scoped>\n",
       "    .dataframe tbody tr th:only-of-type {\n",
       "        vertical-align: middle;\n",
       "    }\n",
       "\n",
       "    .dataframe tbody tr th {\n",
       "        vertical-align: top;\n",
       "    }\n",
       "\n",
       "    .dataframe thead th {\n",
       "        text-align: right;\n",
       "    }\n",
       "</style>\n",
       "<table border=\"1\" class=\"dataframe\">\n",
       "  <thead>\n",
       "    <tr style=\"text-align: right;\">\n",
       "      <th></th>\n",
       "      <th>RFMClass</th>\n",
       "      <th>customers</th>\n",
       "    </tr>\n",
       "  </thead>\n",
       "  <tbody>\n",
       "    <tr>\n",
       "      <th>63</th>\n",
       "      <td>444</td>\n",
       "      <td>10624</td>\n",
       "    </tr>\n",
       "    <tr>\n",
       "      <th>0</th>\n",
       "      <td>111</td>\n",
       "      <td>9705</td>\n",
       "    </tr>\n",
       "    <tr>\n",
       "      <th>62</th>\n",
       "      <td>443</td>\n",
       "      <td>6729</td>\n",
       "    </tr>\n",
       "    <tr>\n",
       "      <th>47</th>\n",
       "      <td>344</td>\n",
       "      <td>6593</td>\n",
       "    </tr>\n",
       "    <tr>\n",
       "      <th>16</th>\n",
       "      <td>211</td>\n",
       "      <td>5847</td>\n",
       "    </tr>\n",
       "    <tr>\n",
       "      <th>...</th>\n",
       "      <td>...</td>\n",
       "      <td>...</td>\n",
       "    </tr>\n",
       "    <tr>\n",
       "      <th>55</th>\n",
       "      <td>424</td>\n",
       "      <td>63</td>\n",
       "    </tr>\n",
       "    <tr>\n",
       "      <th>19</th>\n",
       "      <td>214</td>\n",
       "      <td>60</td>\n",
       "    </tr>\n",
       "    <tr>\n",
       "      <th>3</th>\n",
       "      <td>114</td>\n",
       "      <td>60</td>\n",
       "    </tr>\n",
       "    <tr>\n",
       "      <th>35</th>\n",
       "      <td>314</td>\n",
       "      <td>33</td>\n",
       "    </tr>\n",
       "    <tr>\n",
       "      <th>51</th>\n",
       "      <td>414</td>\n",
       "      <td>2</td>\n",
       "    </tr>\n",
       "  </tbody>\n",
       "</table>\n",
       "<p>64 rows × 2 columns</p>\n",
       "</div>"
      ],
      "text/plain": [
       "   RFMClass  customers\n",
       "63      444      10624\n",
       "0       111       9705\n",
       "62      443       6729\n",
       "47      344       6593\n",
       "16      211       5847\n",
       "..      ...        ...\n",
       "55      424         63\n",
       "19      214         60\n",
       "3       114         60\n",
       "35      314         33\n",
       "51      414          2\n",
       "\n",
       "[64 rows x 2 columns]"
      ]
     },
     "execution_count": 84,
     "metadata": {},
     "output_type": "execute_result"
    }
   ],
   "source": [
    "# В каком RFM-сегменте самое большое кол-во пользователей?\n",
    "rfmSegmentation.reset_index().groupby('RFMClass', as_index = False).agg({'CustomerCode': 'count'})\\\n",
    ".rename(columns={'CustomerCode': 'customers'}).sort_values('customers', ascending = False)\n",
    "\n",
    "#в сегменте (RFMClass) 444 самое большое кол-во пользователей, равное 10624"
   ]
  },
  {
   "cell_type": "code",
   "execution_count": 85,
   "metadata": {},
   "outputs": [],
   "source": [
    "# Какое количество пользователей попало в самый малочисленный сегмент?\n",
    "# самый маленький сегмент (RFMClass) 414 содержит 2 пользователя"
   ]
  }
 ],
 "metadata": {
  "kernelspec": {
   "display_name": "Python 3",
   "language": "python",
   "name": "python3"
  },
  "language_info": {
   "codemirror_mode": {
    "name": "ipython",
    "version": 3
   },
   "file_extension": ".py",
   "mimetype": "text/x-python",
   "name": "python",
   "nbconvert_exporter": "python",
   "pygments_lexer": "ipython3",
   "version": "3.7.3"
  }
 },
 "nbformat": 4,
 "nbformat_minor": 4
}
